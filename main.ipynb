{
 "metadata": {
  "language_info": {
   "codemirror_mode": {
    "name": "ipython",
    "version": 3
   },
   "file_extension": ".py",
   "mimetype": "text/x-python",
   "name": "python",
   "nbconvert_exporter": "python",
   "pygments_lexer": "ipython3",
   "version": "3.8.5-final"
  },
  "orig_nbformat": 2,
  "kernelspec": {
   "name": "python3",
   "display_name": "Python 3"
  }
 },
 "nbformat": 4,
 "nbformat_minor": 2,
 "cells": [
  {
   "source": [
    "# 1 Preprocessing"
   ],
   "cell_type": "markdown",
   "metadata": {}
  },
  {
   "cell_type": "code",
   "execution_count": 265,
   "metadata": {},
   "outputs": [],
   "source": [
    "# import libraries\n",
    "import pandas as pd\n",
    "import matplotlib.pyplot as plt\n",
    "import seaborn as sns\n",
    "from sklearn.linear_model import LinearRegression\n",
    "from sklearn.model_selection import train_test_split"
   ]
  },
  {
   "cell_type": "code",
   "execution_count": 266,
   "metadata": {},
   "outputs": [],
   "source": [
    "df_train = pd.read_csv(\"./data/train.csv.gz\")\n",
    "df_test = pd.read_csv(\"./data/test.csv.gz\")"
   ]
  },
  {
   "cell_type": "code",
   "execution_count": 286,
   "metadata": {},
   "outputs": [],
   "source": [
    "CORR_THRESHOLD = 0.4 # vars should have at least this correlation to be considered as predictor\n",
    "var_corr = df_train.corr()[\"SalePrice\"].abs().sort_values(ascending=False) # get correlation of each var with dependent var (SalePrice) \n",
    "predictor_names = var_corr[(var_corr>CORR_THRESHOLD) & (var_corr<1)].index # get predictor names above threshold"
   ]
  },
  {
   "cell_type": "code",
   "execution_count": 287,
   "metadata": {},
   "outputs": [],
   "source": [
    "train_data = df_train[list(predictor_names) + [\"SalePrice\"]]\n",
    "test_data  = df_test[list(predictor_names)]"
   ]
  },
  {
   "cell_type": "code",
   "execution_count": 288,
   "metadata": {},
   "outputs": [],
   "source": [
    "for dataset in [train_data, test_data]: \n",
    "    dataset[\"hasGarage\"] = (dataset[\"GrLivArea\"]>0).astype('int') # create boolean variables indicating if garage/masonry exists\n",
    "    dataset[\"hasMasonry\"] = (dataset[\"MasVnrArea\"]>0).astype('int')\n",
    "    dataset.fillna(0,inplace=True) # fill NaN (garageArea is NaN when there is no garage)"
   ]
  },
  {
   "cell_type": "code",
   "execution_count": 289,
   "metadata": {},
   "outputs": [
    {
     "output_type": "execute_result",
     "data": {
      "text/plain": [
       "0.8012434687880913"
      ]
     },
     "metadata": {},
     "execution_count": 289
    }
   ],
   "source": [
    "X = train_data.drop(\"SalePrice\",axis=1)\n",
    "y = train_data['SalePrice']\n",
    "\n",
    "X_train, X_test, y_train, y_test = train_test_split(X, y, test_size=0.33, random_state=42)\n",
    "\n",
    "reg = LinearRegression()\n",
    "reg.fit(X_train,y_train)\n",
    "reg.score(X_test,y_test)"
   ]
  },
  {
   "cell_type": "code",
   "execution_count": 291,
   "metadata": {},
   "outputs": [],
   "source": [
    "df_submission = df_test[[\"Id\"]]\n",
    "df_submission[\"SalePrice\"] = pred = reg.predict(test_data)\n",
    "df_submission.to_csv(\"./submissions/submission_test.csv.gz\",index=False)"
   ]
  },
  {
   "cell_type": "code",
   "execution_count": null,
   "metadata": {},
   "outputs": [],
   "source": []
  }
 ]
}